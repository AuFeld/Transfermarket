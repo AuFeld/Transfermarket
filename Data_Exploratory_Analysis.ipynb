{
  "nbformat": 4,
  "nbformat_minor": 0,
  "metadata": {
    "colab": {
      "name": "Chase_Goldfeld_Project_1.ipynb",
      "provenance": [],
      "collapsed_sections": []
    },
    "kernelspec": {
      "name": "python3",
      "display_name": "Python 3"
    }
  },
  "cells": [
    {
      "cell_type": "code",
      "metadata": {
        "id": "qhhad51aodfW",
        "colab_type": "code",
        "colab": {}
      },
      "source": [
        "# import your tools"
      ],
      "execution_count": 0,
      "outputs": []
    },
    {
      "cell_type": "code",
      "metadata": {
        "id": "BxwE9iJComiy",
        "colab_type": "code",
        "colab": {}
      },
      "source": [
        "import pandas as pd\n",
        "from sklearn.datasets.samples_generator import make_blobs\n",
        "import numpy as np\n",
        "from sklearn.decomposition import PCA\n",
        "from sklearn import preprocessing\n",
        "import matplotlib.pyplot as plt\n",
        "from sklearn.cluster import KMeans \n",
        "import math\n",
        "from scipy.spatial import distance\n",
        "from sklearn.preprocessing import StandardScaler\n",
        "from numpy import linalg as LA\n",
        "from scipy.stats import ttest_ind, ttest_ind_from_stats, ttest_rel\n",
        "from scipy import stats\n",
        "from numpy import array\n",
        "from pylab import * \n"
      ],
      "execution_count": 0,
      "outputs": []
    },
    {
      "cell_type": "code",
      "metadata": {
        "id": "U4naPcgJomXd",
        "colab_type": "code",
        "colab": {}
      },
      "source": [
        "df = pd.read_excel(r\"/content/Project_1_Data.xlsx\")\n",
        "\n",
        "print(df)"
      ],
      "execution_count": 0,
      "outputs": []
    },
    {
      "cell_type": "code",
      "metadata": {
        "id": "UU1eaJzRjqaB",
        "colab_type": "code",
        "colab": {}
      },
      "source": [
        "# data is from https://www.transfermarkt.us/"
      ],
      "execution_count": 0,
      "outputs": []
    },
    {
      "cell_type": "code",
      "metadata": {
        "id": "TsNbKjyWQ7iD",
        "colab_type": "code",
        "colab": {}
      },
      "source": [
        "# Total Expenditures per Season\n",
        "\n",
        "exp_per_season = array([796.76, 773.3, 883.53, 1053.85, 1406.52, 1669.27, \n",
        "                        1890.85, 2481.33, 1829.36])\n",
        "season = array([2010, 2011, 2012, 2013, 2014, 2015, 2016, 2017, 2018])\n",
        "\n"
      ],
      "execution_count": 0,
      "outputs": []
    },
    {
      "cell_type": "code",
      "metadata": {
        "id": "MKZLYV7r8DKw",
        "colab_type": "code",
        "colab": {}
      },
      "source": [
        "# Means by Season: Exp per point & Exp per Season\n",
        "\n",
        "exp_per_season_mean = array([39.84, 36.48, 44.18, 52.69, 70.33, 83.46, 94.54, \n",
        "                            124.07, 91.47])\n",
        "exp_per_point_mean = array([0.69, 0.65781, 0.83572, 0.94672, 1.227, 1.74292, \n",
        "                            1.77927, 2.21981, 1.91318])"
      ],
      "execution_count": 0,
      "outputs": []
    },
    {
      "cell_type": "code",
      "metadata": {
        "id": "x-jUNF3OVDQ_",
        "colab_type": "code",
        "outputId": "5fd3bdce-ffea-489e-ba0f-b0e3459265f9",
        "colab": {
          "base_uri": "https://localhost:8080/",
          "height": 295
        }
      },
      "source": [
        "# visual aid re increase in expenditures since 2010\n",
        "\n",
        "plot(season, exp_per_season)\n",
        "\n",
        "xlabel('Season')\n",
        "ylabel('Expenditures (in millions USD)')\n",
        "title('Total Expenditures per Season')\n",
        "grid(True)\n",
        "show()\n"
      ],
      "execution_count": 0,
      "outputs": [
        {
          "output_type": "display_data",
          "data": {
            "image/png": "[encoded data removed]",
            "text/plain": [
              "<Figure size 432x288 with 1 Axes>"
            ]
          },
          "metadata": {
            "tags": []
          }
        }
      ]
    },
    {
      "cell_type": "code",
      "metadata": {
        "id": "k57jQ6L2Q7SI",
        "colab_type": "code",
        "outputId": "9febdb50-42e1-41a8-fe49-c594221e2a38",
        "colab": {
          "base_uri": "https://localhost:8080/",
          "height": 106
        }
      },
      "source": [
        "# Correlation between total points per season and total expenditures per season?\n",
        "\n",
        "total_points_per_season = array([1029, 1047, 1032, 1062, 1047, 1033, 1056, 1041, 1069])\n",
        "\n",
        "exp_points_corr = pd.DataFrame({\"exp_per_season\": exp_per_season, \"total_points_per_season\": total_points_per_season})\n",
        "exp_points_corr[['exp_per_season', 'total_points_per_season']].corr()"
      ],
      "execution_count": 0,
      "outputs": [
        {
          "output_type": "execute_result",
          "data": {
            "text/html": [
              "<div>\n",
              "<style scoped>\n",
              "    .dataframe tbody tr th:only-of-type {\n",
              "        vertical-align: middle;\n",
              "    }\n",
              "\n",
              "    .dataframe tbody tr th {\n",
              "        vertical-align: top;\n",
              "    }\n",
              "\n",
              "    .dataframe thead th {\n",
              "        text-align: right;\n",
              "    }\n",
              "</style>\n",
              "<table border=\"1\" class=\"dataframe\">\n",
              "  <thead>\n",
              "    <tr style=\"text-align: right;\">\n",
              "      <th></th>\n",
              "      <th>exp_per_season</th>\n",
              "      <th>total_points_per_season</th>\n",
              "    </tr>\n",
              "  </thead>\n",
              "  <tbody>\n",
              "    <tr>\n",
              "      <th>exp_per_season</th>\n",
              "      <td>1.00000</td>\n",
              "      <td>0.25892</td>\n",
              "    </tr>\n",
              "    <tr>\n",
              "      <th>total_points_per_season</th>\n",
              "      <td>0.25892</td>\n",
              "      <td>1.00000</td>\n",
              "    </tr>\n",
              "  </tbody>\n",
              "</table>\n",
              "</div>"
            ],
            "text/plain": [
              "                         exp_per_season  total_points_per_season\n",
              "exp_per_season                  1.00000                  0.25892\n",
              "total_points_per_season         0.25892                  1.00000"
            ]
          },
          "metadata": {
            "tags": []
          },
          "execution_count": 46
        }
      ]
    },
    {
      "cell_type": "code",
      "metadata": {
        "id": "kBgNk9ecU4BI",
        "colab_type": "code",
        "colab": {}
      },
      "source": [
        "# NOPE"
      ],
      "execution_count": 0,
      "outputs": []
    },
    {
      "cell_type": "code",
      "metadata": {
        "id": "CD09J5ddHqpg",
        "colab_type": "code",
        "outputId": "0e7b9013-5510-4ded-d65b-442d7f500dc6",
        "colab": {
          "base_uri": "https://localhost:8080/",
          "height": 168
        }
      },
      "source": [
        "df.isnull().sum()"
      ],
      "execution_count": 0,
      "outputs": [
        {
          "output_type": "execute_result",
          "data": {
            "text/plain": [
              "Club                       0\n",
              "Season                     0\n",
              "Expenditure                0\n",
              "Income                     0\n",
              "Net                        0\n",
              "Points                     0\n",
              "Expenditure per Point      0\n",
              "Unnamed: 7               179\n",
              "dtype: int64"
            ]
          },
          "metadata": {
            "tags": []
          },
          "execution_count": 121
        }
      ]
    },
    {
      "cell_type": "code",
      "metadata": {
        "id": "hfEUGzaF8Pru",
        "colab_type": "code",
        "outputId": "23b3ac36-60bf-4147-ba8c-3ba3a14199d7",
        "colab": {
          "base_uri": "https://localhost:8080/",
          "height": 50
        }
      },
      "source": [
        "# Big Six Teams represent 53% of all expenditures since 2010, \n",
        "# but only 42% of all points since 2010. What's going on?\n",
        "# big six teams are paying a premium\n",
        "\n",
        "big6_exp = array([548.94, 446.02, 510.66, 630.09, 860.40, 773.83, 919.83, \n",
        "                  1396.08, 674.12])\n",
        "total_exp = array([796.76, 729.64, 883.53, 1053.85, 1406.52, 1669.27, 1890.85, \n",
        "                   2481.33, 1696.55])\n",
        "big6_points = array([410, 433, 448, 464, 437, 383, 477, 466, 474])\n",
        "\n",
        "big6_exp_percent = big6_exp/total_exp\n",
        "print(big6_exp_percent)"
      ],
      "execution_count": 0,
      "outputs": [
        {
          "output_type": "stream",
          "text": [
            "[0.68896531 0.61128776 0.57797698 0.59789344 0.61172255 0.4635739\n",
            " 0.48646376 0.56263375 0.39734756]\n"
          ],
          "name": "stdout"
        }
      ]
    },
    {
      "cell_type": "code",
      "metadata": {
        "id": "JKpCXBC_Ca06",
        "colab_type": "code",
        "outputId": "eb9084ed-4b5f-4cfc-df5a-2651c263ce78",
        "colab": {
          "base_uri": "https://localhost:8080/",
          "height": 106
        }
      },
      "source": [
        "\n",
        "df_big6 = pd.DataFrame({\"big6_exp\": big6_exp, \"big6_points\": big6_points})\n",
        "df_big6[['big6_exp', 'big6_points']].corr()"
      ],
      "execution_count": 0,
      "outputs": [
        {
          "output_type": "execute_result",
          "data": {
            "text/html": [
              "<div>\n",
              "<style scoped>\n",
              "    .dataframe tbody tr th:only-of-type {\n",
              "        vertical-align: middle;\n",
              "    }\n",
              "\n",
              "    .dataframe tbody tr th {\n",
              "        vertical-align: top;\n",
              "    }\n",
              "\n",
              "    .dataframe thead th {\n",
              "        text-align: right;\n",
              "    }\n",
              "</style>\n",
              "<table border=\"1\" class=\"dataframe\">\n",
              "  <thead>\n",
              "    <tr style=\"text-align: right;\">\n",
              "      <th></th>\n",
              "      <th>big6_exp</th>\n",
              "      <th>big6_points</th>\n",
              "    </tr>\n",
              "  </thead>\n",
              "  <tbody>\n",
              "    <tr>\n",
              "      <th>big6_exp</th>\n",
              "      <td>1.000000</td>\n",
              "      <td>0.303884</td>\n",
              "    </tr>\n",
              "    <tr>\n",
              "      <th>big6_points</th>\n",
              "      <td>0.303884</td>\n",
              "      <td>1.000000</td>\n",
              "    </tr>\n",
              "  </tbody>\n",
              "</table>\n",
              "</div>"
            ],
            "text/plain": [
              "             big6_exp  big6_points\n",
              "big6_exp     1.000000     0.303884\n",
              "big6_points  0.303884     1.000000"
            ]
          },
          "metadata": {
            "tags": []
          },
          "execution_count": 48
        }
      ]
    },
    {
      "cell_type": "code",
      "metadata": {
        "id": "hFWoNa1nomJc",
        "colab_type": "code",
        "colab": {}
      },
      "source": [
        "ARS = df[df['Club'] == 'ARS']\n",
        "MAN = df[df['Club'] == 'MAN']\n",
        "MCI = df[df['Club'] == 'MCI']\n",
        "TOT = df[df['Club'] == 'TOT']\n",
        "CHE = df[df['Club'] == 'CHE']\n",
        "LIV = df[df['Club'] == 'LIV']\n",
        "EVE = df[df['Club'] == 'EVE']\n",
        "EPA = np.array([0.69078, 0.65781, 0.83572, 0.94672, 1.227, 1.74292, 1.77927, \n",
        "            2.21981, 1.91318])\n",
        "# EPA = Expenditures per Point Average by season"
      ],
      "execution_count": 0,
      "outputs": []
    },
    {
      "cell_type": "code",
      "metadata": {
        "id": "3rjUpmEnomA_",
        "colab_type": "code",
        "colab": {}
      },
      "source": [
        "data = df['Expenditure per Point']"
      ],
      "execution_count": 0,
      "outputs": []
    },
    {
      "cell_type": "code",
      "metadata": {
        "id": "AFmrcnTqWsTD",
        "colab_type": "code",
        "outputId": "954d47fe-8e54-42b3-9480-38423660bfa5",
        "colab": {
          "base_uri": "https://localhost:8080/",
          "height": 295
        }
      },
      "source": [
        "# Big Six $ Spent per Point\n",
        "\n",
        "plt.scatter(ARS['Season'], ARS['Expenditure per Point'].abs(), color='green', label=\"Arsenal\")\n",
        "plt.scatter(MCI['Season'], MCI['Expenditure per Point'].abs(), color='purple', label=\"Manchester City\")\n",
        "plt.scatter(MAN['Season'], MAN['Expenditure per Point'].abs(), color='red', label=\"Manchester United\")\n",
        "plt.scatter(TOT['Season'], TOT['Expenditure per Point'].abs(), color='pink', label=\"Tottenham\")\n",
        "plt.scatter(CHE['Season'], CHE['Expenditure per Point'].abs(), color='blue', label=\"Chelsea\")\n",
        "plt.scatter(LIV['Season'], LIV['Expenditure per Point'].abs(), color='yellow', label=\"Liverpool\")\n",
        "plt.scatter(season, EPA, color='black', s=20, label=\"Average per Season\") \n",
        "plt.xlabel('Season')\n",
        "plt.ylabel('Expenditures (in millions USD) per Point')\n",
        "title('Big Six $ Spent per Point')\n",
        "grid(True)\n",
        "plt.ylim(0, 5)\n",
        "plt.legend() \n",
        "plt.legend(bbox_to_anchor=(1, 0.5), loc='center left', ncol=1)\n",
        "plt.show()"
      ],
      "execution_count": 0,
      "outputs": [
        {
          "output_type": "display_data",
          "data": {
            "image/png": "[encoded data removed]",
            "text/plain": [
              "<Figure size 432x288 with 1 Axes>"
            ]
          },
          "metadata": {
            "tags": []
          }
        }
      ]
    },
    {
      "cell_type": "code",
      "metadata": {
        "id": "S4XGysn7QM-e",
        "colab_type": "code",
        "colab": {}
      },
      "source": [
        "# Correlation Values for every club with at least five seasons since 2010"
      ],
      "execution_count": 0,
      "outputs": []
    },
    {
      "cell_type": "code",
      "metadata": {
        "id": "2BSxafMioJbR",
        "colab_type": "code",
        "outputId": "301ef8a7-3abf-408d-fdd5-658c2267cd73",
        "colab": {
          "base_uri": "https://localhost:8080/",
          "height": 106
        }
      },
      "source": [
        "# Arsenal Correlation between expenditures and points\n",
        "\n",
        "ARS_Exp = array([91, 174, 129, 30, 136, 56, 64, 75, 26])\n",
        "ARS_Points = array([70, 63, 75, 71, 75, 79, 73, 70, 68])\n",
        "df_ARS = pd.DataFrame({\"ARS_Exp\": ARS_Exp, \"ARS_Points\": ARS_Points})\n",
        "df_ARS[['ARS_Exp', 'ARS_Points']].corr()\n"
      ],
      "execution_count": 0,
      "outputs": [
        {
          "output_type": "execute_result",
          "data": {
            "text/html": [
              "<div>\n",
              "<style scoped>\n",
              "    .dataframe tbody tr th:only-of-type {\n",
              "        vertical-align: middle;\n",
              "    }\n",
              "\n",
              "    .dataframe tbody tr th {\n",
              "        vertical-align: top;\n",
              "    }\n",
              "\n",
              "    .dataframe thead th {\n",
              "        text-align: right;\n",
              "    }\n",
              "</style>\n",
              "<table border=\"1\" class=\"dataframe\">\n",
              "  <thead>\n",
              "    <tr style=\"text-align: right;\">\n",
              "      <th></th>\n",
              "      <th>ARS_Exp</th>\n",
              "      <th>ARS_Points</th>\n",
              "    </tr>\n",
              "  </thead>\n",
              "  <tbody>\n",
              "    <tr>\n",
              "      <th>ARS_Exp</th>\n",
              "      <td>1.000000</td>\n",
              "      <td>-0.231747</td>\n",
              "    </tr>\n",
              "    <tr>\n",
              "      <th>ARS_Points</th>\n",
              "      <td>-0.231747</td>\n",
              "      <td>1.000000</td>\n",
              "    </tr>\n",
              "  </tbody>\n",
              "</table>\n",
              "</div>"
            ],
            "text/plain": [
              "             ARS_Exp  ARS_Points\n",
              "ARS_Exp     1.000000   -0.231747\n",
              "ARS_Points -0.231747    1.000000"
            ]
          },
          "metadata": {
            "tags": []
          },
          "execution_count": 52
        }
      ]
    },
    {
      "cell_type": "code",
      "metadata": {
        "id": "nlpywX4zSVH6",
        "colab_type": "code",
        "colab": {}
      },
      "source": [
        "ARS_Corr = -0.231747"
      ],
      "execution_count": 0,
      "outputs": []
    },
    {
      "cell_type": "code",
      "metadata": {
        "id": "mKqBS5ExoJPY",
        "colab_type": "code",
        "outputId": "cfea10db-de5d-4d24-9947-44a7988404ae",
        "colab": {
          "base_uri": "https://localhost:8080/",
          "height": 106
        }
      },
      "source": [
        "# Chelsea Correlation between expenditures and points\n",
        "\n",
        "CHE_Exp = array([238, 296.97, 151.39, 103.17, 156.98, 148.6, 125.06, 109.95, 138.51])\n",
        "CHE_Points = array([72, 70, 93, 50, 87, 82, 75, 64, 71])\n",
        "df_CHE = pd.DataFrame({\"CHE_Exp\": CHE_Exp, \"CHE_Points\": CHE_Points})\n",
        "df_CHE[['CHE_Exp', 'CHE_Points']].corr()\n"
      ],
      "execution_count": 0,
      "outputs": [
        {
          "output_type": "execute_result",
          "data": {
            "text/html": [
              "<div>\n",
              "<style scoped>\n",
              "    .dataframe tbody tr th:only-of-type {\n",
              "        vertical-align: middle;\n",
              "    }\n",
              "\n",
              "    .dataframe tbody tr th {\n",
              "        vertical-align: top;\n",
              "    }\n",
              "\n",
              "    .dataframe thead th {\n",
              "        text-align: right;\n",
              "    }\n",
              "</style>\n",
              "<table border=\"1\" class=\"dataframe\">\n",
              "  <thead>\n",
              "    <tr style=\"text-align: right;\">\n",
              "      <th></th>\n",
              "      <th>CHE_Exp</th>\n",
              "      <th>CHE_Points</th>\n",
              "    </tr>\n",
              "  </thead>\n",
              "  <tbody>\n",
              "    <tr>\n",
              "      <th>CHE_Exp</th>\n",
              "      <td>1.0000</td>\n",
              "      <td>0.1391</td>\n",
              "    </tr>\n",
              "    <tr>\n",
              "      <th>CHE_Points</th>\n",
              "      <td>0.1391</td>\n",
              "      <td>1.0000</td>\n",
              "    </tr>\n",
              "  </tbody>\n",
              "</table>\n",
              "</div>"
            ],
            "text/plain": [
              "            CHE_Exp  CHE_Points\n",
              "CHE_Exp      1.0000      0.1391\n",
              "CHE_Points   0.1391      1.0000"
            ]
          },
          "metadata": {
            "tags": []
          },
          "execution_count": 54
        }
      ]
    },
    {
      "cell_type": "code",
      "metadata": {
        "id": "WMFFPTwNSa9O",
        "colab_type": "code",
        "colab": {}
      },
      "source": [
        "CHE_Corr = 0.1391"
      ],
      "execution_count": 0,
      "outputs": []
    },
    {
      "cell_type": "code",
      "metadata": {
        "id": "HEH_0o9R3XZK",
        "colab_type": "code",
        "outputId": "8e4c09aa-95e8-47c4-9e50-3e69b32cfe6c",
        "colab": {
          "base_uri": "https://localhost:8080/",
          "height": 106
        }
      },
      "source": [
        "# Tottenham Correlation between expenditures and points\n",
        "\n",
        "TOT_Exp = array([0, 138.51, 95.19, 80.94, 55.26, 138.94, 83.51, 10.77, 30.32])\n",
        "TOT_Points = array([71, 77, 86, 70, 64, 69, 72, 69, 62])\n",
        "df_TOT = pd.DataFrame({\"TOT_Exp\": TOT_Exp, \"TOT_Points\": TOT_Points})\n",
        "df_TOT[['TOT_Exp', 'TOT_Points']].corr()\n"
      ],
      "execution_count": 0,
      "outputs": [
        {
          "output_type": "execute_result",
          "data": {
            "text/html": [
              "<div>\n",
              "<style scoped>\n",
              "    .dataframe tbody tr th:only-of-type {\n",
              "        vertical-align: middle;\n",
              "    }\n",
              "\n",
              "    .dataframe tbody tr th {\n",
              "        vertical-align: top;\n",
              "    }\n",
              "\n",
              "    .dataframe thead th {\n",
              "        text-align: right;\n",
              "    }\n",
              "</style>\n",
              "<table border=\"1\" class=\"dataframe\">\n",
              "  <thead>\n",
              "    <tr style=\"text-align: right;\">\n",
              "      <th></th>\n",
              "      <th>TOT_Exp</th>\n",
              "      <th>TOT_Points</th>\n",
              "    </tr>\n",
              "  </thead>\n",
              "  <tbody>\n",
              "    <tr>\n",
              "      <th>TOT_Exp</th>\n",
              "      <td>1.000000</td>\n",
              "      <td>0.428894</td>\n",
              "    </tr>\n",
              "    <tr>\n",
              "      <th>TOT_Points</th>\n",
              "      <td>0.428894</td>\n",
              "      <td>1.000000</td>\n",
              "    </tr>\n",
              "  </tbody>\n",
              "</table>\n",
              "</div>"
            ],
            "text/plain": [
              "             TOT_Exp  TOT_Points\n",
              "TOT_Exp     1.000000    0.428894\n",
              "TOT_Points  0.428894    1.000000"
            ]
          },
          "metadata": {
            "tags": []
          },
          "execution_count": 56
        }
      ]
    },
    {
      "cell_type": "code",
      "metadata": {
        "id": "9tw80ulsSdOV",
        "colab_type": "code",
        "colab": {}
      },
      "source": [
        "TOT_Corr = 0.428894"
      ],
      "execution_count": 0,
      "outputs": []
    },
    {
      "cell_type": "code",
      "metadata": {
        "id": "Pn509uk03bxy",
        "colab_type": "code",
        "outputId": "a323039d-65d1-4392-e449-0ef55e6dd206",
        "colab": {
          "base_uri": "https://localhost:8080/",
          "height": 106
        }
      },
      "source": [
        "# Manchester United Correlation between expenditures and points\n",
        "\n",
        "MAN_Exp = array([94.28, 226.18, 210.9, 177.84, 222.7, 87.93, 87.15, 71.02, 33.4])\n",
        "MAN_Points = array([66, 81, 69, 66, 70, 64, 89, 89, 80])\n",
        "df_MAN = pd.DataFrame({\"MAN_Exp\": MAN_Exp, \"MAN_Points\": MAN_Points})\n",
        "df_MAN[['MAN_Exp', 'MAN_Points']].corr()\n"
      ],
      "execution_count": 0,
      "outputs": [
        {
          "output_type": "execute_result",
          "data": {
            "text/html": [
              "<div>\n",
              "<style scoped>\n",
              "    .dataframe tbody tr th:only-of-type {\n",
              "        vertical-align: middle;\n",
              "    }\n",
              "\n",
              "    .dataframe tbody tr th {\n",
              "        vertical-align: top;\n",
              "    }\n",
              "\n",
              "    .dataframe thead th {\n",
              "        text-align: right;\n",
              "    }\n",
              "</style>\n",
              "<table border=\"1\" class=\"dataframe\">\n",
              "  <thead>\n",
              "    <tr style=\"text-align: right;\">\n",
              "      <th></th>\n",
              "      <th>MAN_Exp</th>\n",
              "      <th>MAN_Points</th>\n",
              "    </tr>\n",
              "  </thead>\n",
              "  <tbody>\n",
              "    <tr>\n",
              "      <th>MAN_Exp</th>\n",
              "      <td>1.000000</td>\n",
              "      <td>-0.323952</td>\n",
              "    </tr>\n",
              "    <tr>\n",
              "      <th>MAN_Points</th>\n",
              "      <td>-0.323952</td>\n",
              "      <td>1.000000</td>\n",
              "    </tr>\n",
              "  </tbody>\n",
              "</table>\n",
              "</div>"
            ],
            "text/plain": [
              "             MAN_Exp  MAN_Points\n",
              "MAN_Exp     1.000000   -0.323952\n",
              "MAN_Points -0.323952    1.000000"
            ]
          },
          "metadata": {
            "tags": []
          },
          "execution_count": 58
        }
      ]
    },
    {
      "cell_type": "code",
      "metadata": {
        "id": "Q2J2epC6Sf0S",
        "colab_type": "code",
        "colab": {}
      },
      "source": [
        "MAN_Corr = -0.323952"
      ],
      "execution_count": 0,
      "outputs": []
    },
    {
      "cell_type": "code",
      "metadata": {
        "id": "Rq75i_3E3cd0",
        "colab_type": "code",
        "outputId": "67db46ef-8d73-4429-e350-28579ffafbd9",
        "colab": {
          "base_uri": "https://localhost:8080/",
          "height": 106
        }
      },
      "source": [
        "# Manchester City Correlation between expenditures and points\n",
        "\n",
        "MCI_Exp = array([89.59, 361.95, 242.39, 237.46, 117.19, 132.24, 70.62, 103.8, 209.31])\n",
        "MCI_Points = array([98, 100, 78, 66, 79, 86, 78, 89, 71])\n",
        "df_MCI = pd.DataFrame({\"MCI_Exp\": MCI_Exp, \"MCI_Points\": MCI_Points})\n",
        "df_MCI[['MCI_Exp', 'MCI_Points']].corr()\n"
      ],
      "execution_count": 0,
      "outputs": [
        {
          "output_type": "execute_result",
          "data": {
            "text/html": [
              "<div>\n",
              "<style scoped>\n",
              "    .dataframe tbody tr th:only-of-type {\n",
              "        vertical-align: middle;\n",
              "    }\n",
              "\n",
              "    .dataframe tbody tr th {\n",
              "        vertical-align: top;\n",
              "    }\n",
              "\n",
              "    .dataframe thead th {\n",
              "        text-align: right;\n",
              "    }\n",
              "</style>\n",
              "<table border=\"1\" class=\"dataframe\">\n",
              "  <thead>\n",
              "    <tr style=\"text-align: right;\">\n",
              "      <th></th>\n",
              "      <th>MCI_Exp</th>\n",
              "      <th>MCI_Points</th>\n",
              "    </tr>\n",
              "  </thead>\n",
              "  <tbody>\n",
              "    <tr>\n",
              "      <th>MCI_Exp</th>\n",
              "      <td>1.00000</td>\n",
              "      <td>0.03208</td>\n",
              "    </tr>\n",
              "    <tr>\n",
              "      <th>MCI_Points</th>\n",
              "      <td>0.03208</td>\n",
              "      <td>1.00000</td>\n",
              "    </tr>\n",
              "  </tbody>\n",
              "</table>\n",
              "</div>"
            ],
            "text/plain": [
              "            MCI_Exp  MCI_Points\n",
              "MCI_Exp     1.00000     0.03208\n",
              "MCI_Points  0.03208     1.00000"
            ]
          },
          "metadata": {
            "tags": []
          },
          "execution_count": 60
        }
      ]
    },
    {
      "cell_type": "code",
      "metadata": {
        "id": "AQrp4MnrSiNq",
        "colab_type": "code",
        "colab": {}
      },
      "source": [
        "MCI_Corr = 0.03208"
      ],
      "execution_count": 0,
      "outputs": []
    },
    {
      "cell_type": "code",
      "metadata": {
        "id": "lY6n67es3bnC",
        "colab_type": "code",
        "outputId": "7eae099f-d3f0-49b7-e0cb-281010ac3530",
        "colab": {
          "base_uri": "https://localhost:8080/",
          "height": 106
        }
      },
      "source": [
        "# Liverpool Correlation between expenditures and points\n",
        "\n",
        "LIV_Exp = array([160.85, 198.22, 91.09, 144.21, 172.63, 66.23, 80.48, 75.84, 111.18])\n",
        "LIV_Points = array([97, 75, 76, 60, 62, 84, 61, 52, 58])\n",
        "df_LIV = pd.DataFrame({\"LIV_Exp\": LIV_Exp, \"LIV_Points\": LIV_Points})\n",
        "df_LIV[['LIV_Exp', 'LIV_Points']].corr()\n"
      ],
      "execution_count": 0,
      "outputs": [
        {
          "output_type": "execute_result",
          "data": {
            "text/html": [
              "<div>\n",
              "<style scoped>\n",
              "    .dataframe tbody tr th:only-of-type {\n",
              "        vertical-align: middle;\n",
              "    }\n",
              "\n",
              "    .dataframe tbody tr th {\n",
              "        vertical-align: top;\n",
              "    }\n",
              "\n",
              "    .dataframe thead th {\n",
              "        text-align: right;\n",
              "    }\n",
              "</style>\n",
              "<table border=\"1\" class=\"dataframe\">\n",
              "  <thead>\n",
              "    <tr style=\"text-align: right;\">\n",
              "      <th></th>\n",
              "      <th>LIV_Exp</th>\n",
              "      <th>LIV_Points</th>\n",
              "    </tr>\n",
              "  </thead>\n",
              "  <tbody>\n",
              "    <tr>\n",
              "      <th>LIV_Exp</th>\n",
              "      <td>1.000000</td>\n",
              "      <td>0.209822</td>\n",
              "    </tr>\n",
              "    <tr>\n",
              "      <th>LIV_Points</th>\n",
              "      <td>0.209822</td>\n",
              "      <td>1.000000</td>\n",
              "    </tr>\n",
              "  </tbody>\n",
              "</table>\n",
              "</div>"
            ],
            "text/plain": [
              "             LIV_Exp  LIV_Points\n",
              "LIV_Exp     1.000000    0.209822\n",
              "LIV_Points  0.209822    1.000000"
            ]
          },
          "metadata": {
            "tags": []
          },
          "execution_count": 62
        }
      ]
    },
    {
      "cell_type": "code",
      "metadata": {
        "id": "NHGuFkKuSkKQ",
        "colab_type": "code",
        "colab": {}
      },
      "source": [
        "LIV_Corr = 0.209822"
      ],
      "execution_count": 0,
      "outputs": []
    },
    {
      "cell_type": "code",
      "metadata": {
        "id": "qY_bFF7qzvtD",
        "colab_type": "code",
        "outputId": "1f217079-2a0f-4327-a3e3-99bbb1cb198d",
        "colab": {
          "base_uri": "https://localhost:8080/",
          "height": 106
        }
      },
      "source": [
        "# Everton Correlation between expenditures and points\n",
        "\n",
        "EVE_Exp = array([113.77, 231.65, 97.93, 55.75, 45.78, 36.25, 24.68, 8.21, 1.94])\n",
        "EVE_Points = array([54, 49, 61, 47, 47, 72, 63, 56, 54])\n",
        "df_EVE = pd.DataFrame({\"EVE_Exp\": EVE_Exp, \"EVE_Points\": EVE_Points})\n",
        "df_EVE[['EVE_Exp', 'EVE_Points']].corr()\n"
      ],
      "execution_count": 0,
      "outputs": [
        {
          "output_type": "execute_result",
          "data": {
            "text/html": [
              "<div>\n",
              "<style scoped>\n",
              "    .dataframe tbody tr th:only-of-type {\n",
              "        vertical-align: middle;\n",
              "    }\n",
              "\n",
              "    .dataframe tbody tr th {\n",
              "        vertical-align: top;\n",
              "    }\n",
              "\n",
              "    .dataframe thead th {\n",
              "        text-align: right;\n",
              "    }\n",
              "</style>\n",
              "<table border=\"1\" class=\"dataframe\">\n",
              "  <thead>\n",
              "    <tr style=\"text-align: right;\">\n",
              "      <th></th>\n",
              "      <th>EVE_Exp</th>\n",
              "      <th>EVE_Points</th>\n",
              "    </tr>\n",
              "  </thead>\n",
              "  <tbody>\n",
              "    <tr>\n",
              "      <th>EVE_Exp</th>\n",
              "      <td>1.000000</td>\n",
              "      <td>-0.306013</td>\n",
              "    </tr>\n",
              "    <tr>\n",
              "      <th>EVE_Points</th>\n",
              "      <td>-0.306013</td>\n",
              "      <td>1.000000</td>\n",
              "    </tr>\n",
              "  </tbody>\n",
              "</table>\n",
              "</div>"
            ],
            "text/plain": [
              "             EVE_Exp  EVE_Points\n",
              "EVE_Exp     1.000000   -0.306013\n",
              "EVE_Points -0.306013    1.000000"
            ]
          },
          "metadata": {
            "tags": []
          },
          "execution_count": 64
        }
      ]
    },
    {
      "cell_type": "code",
      "metadata": {
        "id": "WnyMISm4Smju",
        "colab_type": "code",
        "colab": {}
      },
      "source": [
        "EVE_Corr = -0.306013"
      ],
      "execution_count": 0,
      "outputs": []
    },
    {
      "cell_type": "code",
      "metadata": {
        "id": "smaVAKIB0ZsO",
        "colab_type": "code",
        "outputId": "6c58482e-24dd-4c34-ff31-75e2bbb2278e",
        "colab": {
          "base_uri": "https://localhost:8080/",
          "height": 106
        }
      },
      "source": [
        "# STK Correlation between expenditures and points\n",
        "\n",
        "STK_Exp = array([65.78, 44.2, 61.16, 2.05, 7.98, 27, 28, 45])\n",
        "STK_Points = array([33, 44, 51, 54, 50, 42, 45, 46])\n",
        "df_STK = pd.DataFrame({\"STK_Exp\": STK_Exp, \"STK_Points\": STK_Points})\n",
        "df_STK[['STK_Exp', 'STK_Points']].corr()\n"
      ],
      "execution_count": 0,
      "outputs": [
        {
          "output_type": "execute_result",
          "data": {
            "text/html": [
              "<div>\n",
              "<style scoped>\n",
              "    .dataframe tbody tr th:only-of-type {\n",
              "        vertical-align: middle;\n",
              "    }\n",
              "\n",
              "    .dataframe tbody tr th {\n",
              "        vertical-align: top;\n",
              "    }\n",
              "\n",
              "    .dataframe thead th {\n",
              "        text-align: right;\n",
              "    }\n",
              "</style>\n",
              "<table border=\"1\" class=\"dataframe\">\n",
              "  <thead>\n",
              "    <tr style=\"text-align: right;\">\n",
              "      <th></th>\n",
              "      <th>STK_Exp</th>\n",
              "      <th>STK_Points</th>\n",
              "    </tr>\n",
              "  </thead>\n",
              "  <tbody>\n",
              "    <tr>\n",
              "      <th>STK_Exp</th>\n",
              "      <td>1.000000</td>\n",
              "      <td>-0.590978</td>\n",
              "    </tr>\n",
              "    <tr>\n",
              "      <th>STK_Points</th>\n",
              "      <td>-0.590978</td>\n",
              "      <td>1.000000</td>\n",
              "    </tr>\n",
              "  </tbody>\n",
              "</table>\n",
              "</div>"
            ],
            "text/plain": [
              "             STK_Exp  STK_Points\n",
              "STK_Exp     1.000000   -0.590978\n",
              "STK_Points -0.590978    1.000000"
            ]
          },
          "metadata": {
            "tags": []
          },
          "execution_count": 66
        }
      ]
    },
    {
      "cell_type": "code",
      "metadata": {
        "id": "6hNw1X1qSoqT",
        "colab_type": "code",
        "colab": {}
      },
      "source": [
        "STK_Corr = -0.590978"
      ],
      "execution_count": 0,
      "outputs": []
    },
    {
      "cell_type": "code",
      "metadata": {
        "id": "TPYkPg-o02tf",
        "colab_type": "code",
        "outputId": "d6aaf700-98f9-4ee0-8f0e-45fe446c8603",
        "colab": {
          "base_uri": "https://localhost:8080/",
          "height": 106
        }
      },
      "source": [
        "# WHU Correlation between expenditures and points\n",
        "\n",
        "WHU_Exp = array([107.05, 64.74, 95.19, 60.08, 40.07, 27.36, 27.24, 18.04])\n",
        "WHU_Points = array([52, 42, 45, 62, 47, 40, 46, 33])\n",
        "df_WHU = pd.DataFrame({\"WHU_Exp\": WHU_Exp, \"WHU_Points\": WHU_Points})\n",
        "df_WHU[['WHU_Exp', 'WHU_Points']].corr()\n"
      ],
      "execution_count": 0,
      "outputs": [
        {
          "output_type": "execute_result",
          "data": {
            "text/html": [
              "<div>\n",
              "<style scoped>\n",
              "    .dataframe tbody tr th:only-of-type {\n",
              "        vertical-align: middle;\n",
              "    }\n",
              "\n",
              "    .dataframe tbody tr th {\n",
              "        vertical-align: top;\n",
              "    }\n",
              "\n",
              "    .dataframe thead th {\n",
              "        text-align: right;\n",
              "    }\n",
              "</style>\n",
              "<table border=\"1\" class=\"dataframe\">\n",
              "  <thead>\n",
              "    <tr style=\"text-align: right;\">\n",
              "      <th></th>\n",
              "      <th>WHU_Exp</th>\n",
              "      <th>WHU_Points</th>\n",
              "    </tr>\n",
              "  </thead>\n",
              "  <tbody>\n",
              "    <tr>\n",
              "      <th>WHU_Exp</th>\n",
              "      <td>1.00000</td>\n",
              "      <td>0.47911</td>\n",
              "    </tr>\n",
              "    <tr>\n",
              "      <th>WHU_Points</th>\n",
              "      <td>0.47911</td>\n",
              "      <td>1.00000</td>\n",
              "    </tr>\n",
              "  </tbody>\n",
              "</table>\n",
              "</div>"
            ],
            "text/plain": [
              "            WHU_Exp  WHU_Points\n",
              "WHU_Exp     1.00000     0.47911\n",
              "WHU_Points  0.47911     1.00000"
            ]
          },
          "metadata": {
            "tags": []
          },
          "execution_count": 68
        }
      ]
    },
    {
      "cell_type": "code",
      "metadata": {
        "id": "z45z3WAKSq2H",
        "colab_type": "code",
        "colab": {}
      },
      "source": [
        "WHU_Corr = 0.47911"
      ],
      "execution_count": 0,
      "outputs": []
    },
    {
      "cell_type": "code",
      "metadata": {
        "id": "xtZWWDI902RY",
        "colab_type": "code",
        "outputId": "fb0d115c-9446-4df7-a5ca-b20dd597ee2e",
        "colab": {
          "base_uri": "https://localhost:8080/",
          "height": 106
        }
      },
      "source": [
        "# Newcastle Correltaion between expenditures and points\n",
        "\n",
        "NEW_Exp = array([68.12, 50.50, 123.02, 51.32, 4.33, 36.44, 29.7, 15.94])\n",
        "NEW_Points = array([45, 44, 37, 39, 49, 41, 65, 46])\n",
        "df_NEW = pd.DataFrame({\"NEW_Exp\": NEW_Exp, \"NEW_Points\": NEW_Points})\n",
        "df_NEW[['NEW_Exp', 'NEW_Points']].corr()\n"
      ],
      "execution_count": 0,
      "outputs": [
        {
          "output_type": "execute_result",
          "data": {
            "text/html": [
              "<div>\n",
              "<style scoped>\n",
              "    .dataframe tbody tr th:only-of-type {\n",
              "        vertical-align: middle;\n",
              "    }\n",
              "\n",
              "    .dataframe tbody tr th {\n",
              "        vertical-align: top;\n",
              "    }\n",
              "\n",
              "    .dataframe thead th {\n",
              "        text-align: right;\n",
              "    }\n",
              "</style>\n",
              "<table border=\"1\" class=\"dataframe\">\n",
              "  <thead>\n",
              "    <tr style=\"text-align: right;\">\n",
              "      <th></th>\n",
              "      <th>NEW_Exp</th>\n",
              "      <th>NEW_Points</th>\n",
              "    </tr>\n",
              "  </thead>\n",
              "  <tbody>\n",
              "    <tr>\n",
              "      <th>NEW_Exp</th>\n",
              "      <td>1.000000</td>\n",
              "      <td>-0.512115</td>\n",
              "    </tr>\n",
              "    <tr>\n",
              "      <th>NEW_Points</th>\n",
              "      <td>-0.512115</td>\n",
              "      <td>1.000000</td>\n",
              "    </tr>\n",
              "  </tbody>\n",
              "</table>\n",
              "</div>"
            ],
            "text/plain": [
              "             NEW_Exp  NEW_Points\n",
              "NEW_Exp     1.000000   -0.512115\n",
              "NEW_Points -0.512115    1.000000"
            ]
          },
          "metadata": {
            "tags": []
          },
          "execution_count": 70
        }
      ]
    },
    {
      "cell_type": "code",
      "metadata": {
        "id": "it3xix1nStQz",
        "colab_type": "code",
        "colab": {}
      },
      "source": [
        "NEW_Corr = -0.512115"
      ],
      "execution_count": 0,
      "outputs": []
    },
    {
      "cell_type": "code",
      "metadata": {
        "id": "fy3s9Q140Zi0",
        "colab_type": "code",
        "outputId": "2c0e9ac1-3ce2-4102-8b0e-d3110a21cf9a",
        "colab": {
          "base_uri": "https://localhost:8080/",
          "height": 106
        }
      },
      "source": [
        "# West Brom correlation values\n",
        "\n",
        "WBA_Exp = array([60.99, 43.21, 48.91, 28.37, 17.9, 5.7, 10.42, 15.77])\n",
        "WBA_Points = array([31, 45, 43, 44, 36, 49, 47, 47])\n",
        "df_WBA = pd.DataFrame({\"WBA_Exp\": WBA_Exp, \"WBA_Points\": WBA_Points})\n",
        "df_WBA[['WBA_Exp', 'WBA_Points']].corr()\n"
      ],
      "execution_count": 0,
      "outputs": [
        {
          "output_type": "execute_result",
          "data": {
            "text/html": [
              "<div>\n",
              "<style scoped>\n",
              "    .dataframe tbody tr th:only-of-type {\n",
              "        vertical-align: middle;\n",
              "    }\n",
              "\n",
              "    .dataframe tbody tr th {\n",
              "        vertical-align: top;\n",
              "    }\n",
              "\n",
              "    .dataframe thead th {\n",
              "        text-align: right;\n",
              "    }\n",
              "</style>\n",
              "<table border=\"1\" class=\"dataframe\">\n",
              "  <thead>\n",
              "    <tr style=\"text-align: right;\">\n",
              "      <th></th>\n",
              "      <th>WBA_Exp</th>\n",
              "      <th>WBA_Points</th>\n",
              "    </tr>\n",
              "  </thead>\n",
              "  <tbody>\n",
              "    <tr>\n",
              "      <th>WBA_Exp</th>\n",
              "      <td>1.000000</td>\n",
              "      <td>-0.631866</td>\n",
              "    </tr>\n",
              "    <tr>\n",
              "      <th>WBA_Points</th>\n",
              "      <td>-0.631866</td>\n",
              "      <td>1.000000</td>\n",
              "    </tr>\n",
              "  </tbody>\n",
              "</table>\n",
              "</div>"
            ],
            "text/plain": [
              "             WBA_Exp  WBA_Points\n",
              "WBA_Exp     1.000000   -0.631866\n",
              "WBA_Points -0.631866    1.000000"
            ]
          },
          "metadata": {
            "tags": []
          },
          "execution_count": 72
        }
      ]
    },
    {
      "cell_type": "code",
      "metadata": {
        "id": "7SuD1I6YSvxQ",
        "colab_type": "code",
        "colab": {}
      },
      "source": [
        "WBA_Corr = -0.631866"
      ],
      "execution_count": 0,
      "outputs": []
    },
    {
      "cell_type": "code",
      "metadata": {
        "id": "NdCykmN9MERn",
        "colab_type": "code",
        "outputId": "20634e96-0196-48c5-cf87-b184534c7208",
        "colab": {
          "base_uri": "https://localhost:8080/",
          "height": 106
        }
      },
      "source": [
        "# Southampton Correlation \n",
        "\n",
        "SOU_Exp = array([70.97, 69.83, 87.55, 68.51, 109.44, 45.14, 47.31])\n",
        "SOU_Points = array([39, 36, 46, 63, 60, 56, 41])\n",
        "df_SOU = pd.DataFrame({\"SOU_Exp\": SOU_Exp, \"SOU_Points\": SOU_Points})\n",
        "df_SOU[['SOU_Exp', 'SOU_Points']].corr()\n"
      ],
      "execution_count": 0,
      "outputs": [
        {
          "output_type": "execute_result",
          "data": {
            "text/html": [
              "<div>\n",
              "<style scoped>\n",
              "    .dataframe tbody tr th:only-of-type {\n",
              "        vertical-align: middle;\n",
              "    }\n",
              "\n",
              "    .dataframe tbody tr th {\n",
              "        vertical-align: top;\n",
              "    }\n",
              "\n",
              "    .dataframe thead th {\n",
              "        text-align: right;\n",
              "    }\n",
              "</style>\n",
              "<table border=\"1\" class=\"dataframe\">\n",
              "  <thead>\n",
              "    <tr style=\"text-align: right;\">\n",
              "      <th></th>\n",
              "      <th>SOU_Exp</th>\n",
              "      <th>SOU_Points</th>\n",
              "    </tr>\n",
              "  </thead>\n",
              "  <tbody>\n",
              "    <tr>\n",
              "      <th>SOU_Exp</th>\n",
              "      <td>1.000000</td>\n",
              "      <td>0.249539</td>\n",
              "    </tr>\n",
              "    <tr>\n",
              "      <th>SOU_Points</th>\n",
              "      <td>0.249539</td>\n",
              "      <td>1.000000</td>\n",
              "    </tr>\n",
              "  </tbody>\n",
              "</table>\n",
              "</div>"
            ],
            "text/plain": [
              "             SOU_Exp  SOU_Points\n",
              "SOU_Exp     1.000000    0.249539\n",
              "SOU_Points  0.249539    1.000000"
            ]
          },
          "metadata": {
            "tags": []
          },
          "execution_count": 75
        }
      ]
    },
    {
      "cell_type": "code",
      "metadata": {
        "id": "yDWkse9gSyHZ",
        "colab_type": "code",
        "colab": {}
      },
      "source": [
        "SOU_Corr = 0.249539"
      ],
      "execution_count": 0,
      "outputs": []
    },
    {
      "cell_type": "code",
      "metadata": {
        "id": "PWBZ-SBWMECz",
        "colab_type": "code",
        "outputId": "f28eca61-1ccd-498e-bd5f-f9616c392cde",
        "colab": {
          "base_uri": "https://localhost:8080/",
          "height": 106
        }
      },
      "source": [
        "# Swansea Correlation \n",
        "\n",
        "SWA_Exp = array([83.66, 66.23, 24.86, 47.34, 30.34, 23.34, 14.65])\n",
        "SWA_Points = array([33, 41, 47, 56, 42, 46, 47])\n",
        "df_SWA = pd.DataFrame({\"SWA_Exp\": SWA_Exp, \"SWA_Points\": SWA_Points})\n",
        "df_SWA[['SWA_Exp', 'SWA_Points']].corr()\n"
      ],
      "execution_count": 0,
      "outputs": [
        {
          "output_type": "execute_result",
          "data": {
            "text/html": [
              "<div>\n",
              "<style scoped>\n",
              "    .dataframe tbody tr th:only-of-type {\n",
              "        vertical-align: middle;\n",
              "    }\n",
              "\n",
              "    .dataframe tbody tr th {\n",
              "        vertical-align: top;\n",
              "    }\n",
              "\n",
              "    .dataframe thead th {\n",
              "        text-align: right;\n",
              "    }\n",
              "</style>\n",
              "<table border=\"1\" class=\"dataframe\">\n",
              "  <thead>\n",
              "    <tr style=\"text-align: right;\">\n",
              "      <th></th>\n",
              "      <th>SWA_Exp</th>\n",
              "      <th>SWA_Points</th>\n",
              "    </tr>\n",
              "  </thead>\n",
              "  <tbody>\n",
              "    <tr>\n",
              "      <th>SWA_Exp</th>\n",
              "      <td>1.000000</td>\n",
              "      <td>-0.570044</td>\n",
              "    </tr>\n",
              "    <tr>\n",
              "      <th>SWA_Points</th>\n",
              "      <td>-0.570044</td>\n",
              "      <td>1.000000</td>\n",
              "    </tr>\n",
              "  </tbody>\n",
              "</table>\n",
              "</div>"
            ],
            "text/plain": [
              "             SWA_Exp  SWA_Points\n",
              "SWA_Exp     1.000000   -0.570044\n",
              "SWA_Points -0.570044    1.000000"
            ]
          },
          "metadata": {
            "tags": []
          },
          "execution_count": 77
        }
      ]
    },
    {
      "cell_type": "code",
      "metadata": {
        "id": "tkPgRiPrS3OR",
        "colab_type": "code",
        "colab": {}
      },
      "source": [
        "SWA_Corr = -0.570044"
      ],
      "execution_count": 0,
      "outputs": []
    },
    {
      "cell_type": "code",
      "metadata": {
        "id": "FngaY5Re0ZXf",
        "colab_type": "code",
        "outputId": "7fc99c7a-8e67-49fb-eb1f-cafc8d0f0143",
        "colab": {
          "base_uri": "https://localhost:8080/",
          "height": 106
        }
      },
      "source": [
        "# Sunderland Correlation\n",
        "\n",
        "SUN_Exp = array([47.44, 75.3, 25.78, 38.66, 43.66, 32.21, 33.17])\n",
        "SUN_Points = array([24, 39, 38, 38, 39, 45, 47])\n",
        "df_SUN = pd.DataFrame({\"SUN_Exp\": SUN_Exp, \"SUN_Points\": SUN_Points})\n",
        "df_SUN[['SUN_Exp', 'SUN_Points']].corr()\n"
      ],
      "execution_count": 0,
      "outputs": [
        {
          "output_type": "execute_result",
          "data": {
            "text/html": [
              "<div>\n",
              "<style scoped>\n",
              "    .dataframe tbody tr th:only-of-type {\n",
              "        vertical-align: middle;\n",
              "    }\n",
              "\n",
              "    .dataframe tbody tr th {\n",
              "        vertical-align: top;\n",
              "    }\n",
              "\n",
              "    .dataframe thead th {\n",
              "        text-align: right;\n",
              "    }\n",
              "</style>\n",
              "<table border=\"1\" class=\"dataframe\">\n",
              "  <thead>\n",
              "    <tr style=\"text-align: right;\">\n",
              "      <th></th>\n",
              "      <th>SUN_Exp</th>\n",
              "      <th>SUN_Points</th>\n",
              "    </tr>\n",
              "  </thead>\n",
              "  <tbody>\n",
              "    <tr>\n",
              "      <th>SUN_Exp</th>\n",
              "      <td>1.000000</td>\n",
              "      <td>-0.264788</td>\n",
              "    </tr>\n",
              "    <tr>\n",
              "      <th>SUN_Points</th>\n",
              "      <td>-0.264788</td>\n",
              "      <td>1.000000</td>\n",
              "    </tr>\n",
              "  </tbody>\n",
              "</table>\n",
              "</div>"
            ],
            "text/plain": [
              "             SUN_Exp  SUN_Points\n",
              "SUN_Exp     1.000000   -0.264788\n",
              "SUN_Points -0.264788    1.000000"
            ]
          },
          "metadata": {
            "tags": []
          },
          "execution_count": 80
        }
      ]
    },
    {
      "cell_type": "code",
      "metadata": {
        "id": "D7aebp7eS5Io",
        "colab_type": "code",
        "colab": {}
      },
      "source": [
        "SUN_Corr = -0.264788"
      ],
      "execution_count": 0,
      "outputs": []
    },
    {
      "cell_type": "code",
      "metadata": {
        "id": "zztsvxebzvql",
        "colab_type": "code",
        "outputId": "bb5a9bb1-8792-4bf6-b2cb-cba7011ae437",
        "colab": {
          "base_uri": "https://localhost:8080/",
          "height": 106
        }
      },
      "source": [
        "# Aston Villa correlation\n",
        "\n",
        "AVL_Exp = array([75.87, 15.33, 22.62, 31.73, 23.18, 42.64])\n",
        "AVL_Points = array([17, 38, 38, 41, 38, 48])\n",
        "df_AVL = pd.DataFrame({\"AVL_Exp\": AVL_Exp, \"AVL_Points\": AVL_Points})\n",
        "df_AVL[['AVL_Exp', 'AVL_Points']].corr()\n"
      ],
      "execution_count": 0,
      "outputs": [
        {
          "output_type": "execute_result",
          "data": {
            "text/html": [
              "<div>\n",
              "<style scoped>\n",
              "    .dataframe tbody tr th:only-of-type {\n",
              "        vertical-align: middle;\n",
              "    }\n",
              "\n",
              "    .dataframe tbody tr th {\n",
              "        vertical-align: top;\n",
              "    }\n",
              "\n",
              "    .dataframe thead th {\n",
              "        text-align: right;\n",
              "    }\n",
              "</style>\n",
              "<table border=\"1\" class=\"dataframe\">\n",
              "  <thead>\n",
              "    <tr style=\"text-align: right;\">\n",
              "      <th></th>\n",
              "      <th>AVL_Exp</th>\n",
              "      <th>AVL_Points</th>\n",
              "    </tr>\n",
              "  </thead>\n",
              "  <tbody>\n",
              "    <tr>\n",
              "      <th>AVL_Exp</th>\n",
              "      <td>1.000000</td>\n",
              "      <td>-0.691513</td>\n",
              "    </tr>\n",
              "    <tr>\n",
              "      <th>AVL_Points</th>\n",
              "      <td>-0.691513</td>\n",
              "      <td>1.000000</td>\n",
              "    </tr>\n",
              "  </tbody>\n",
              "</table>\n",
              "</div>"
            ],
            "text/plain": [
              "             AVL_Exp  AVL_Points\n",
              "AVL_Exp     1.000000   -0.691513\n",
              "AVL_Points -0.691513    1.000000"
            ]
          },
          "metadata": {
            "tags": []
          },
          "execution_count": 82
        }
      ]
    },
    {
      "cell_type": "code",
      "metadata": {
        "id": "lbBvlDTjS7UR",
        "colab_type": "code",
        "colab": {}
      },
      "source": [
        "AVL_Corr = -0.691513"
      ],
      "execution_count": 0,
      "outputs": []
    },
    {
      "cell_type": "code",
      "metadata": {
        "id": "xiKQUzOpzvnM",
        "colab_type": "code",
        "outputId": "f6bd6e25-802d-4e73-96be-3dfed9089f48",
        "colab": {
          "base_uri": "https://localhost:8080/",
          "height": 106
        }
      },
      "source": [
        "# crystal palace correlation value\n",
        "\n",
        "CRY_Exp = array([13.51, 55.8, 115.48, 32.83, 35.59, 37.61])\n",
        "CRY_Points = array([49, 44, 41, 42, 48, 45])\n",
        "df_CRY = pd.DataFrame({\"CRY_Exp\": CRY_Exp, \"CRY_Points\": CRY_Points})\n",
        "df_CRY[['CRY_Exp', 'CRY_Points']].corr()\n"
      ],
      "execution_count": 0,
      "outputs": [
        {
          "output_type": "execute_result",
          "data": {
            "text/html": [
              "<div>\n",
              "<style scoped>\n",
              "    .dataframe tbody tr th:only-of-type {\n",
              "        vertical-align: middle;\n",
              "    }\n",
              "\n",
              "    .dataframe tbody tr th {\n",
              "        vertical-align: top;\n",
              "    }\n",
              "\n",
              "    .dataframe thead th {\n",
              "        text-align: right;\n",
              "    }\n",
              "</style>\n",
              "<table border=\"1\" class=\"dataframe\">\n",
              "  <thead>\n",
              "    <tr style=\"text-align: right;\">\n",
              "      <th></th>\n",
              "      <th>CRY_Exp</th>\n",
              "      <th>CRY_Points</th>\n",
              "    </tr>\n",
              "  </thead>\n",
              "  <tbody>\n",
              "    <tr>\n",
              "      <th>CRY_Exp</th>\n",
              "      <td>1.000000</td>\n",
              "      <td>-0.719378</td>\n",
              "    </tr>\n",
              "    <tr>\n",
              "      <th>CRY_Points</th>\n",
              "      <td>-0.719378</td>\n",
              "      <td>1.000000</td>\n",
              "    </tr>\n",
              "  </tbody>\n",
              "</table>\n",
              "</div>"
            ],
            "text/plain": [
              "             CRY_Exp  CRY_Points\n",
              "CRY_Exp     1.000000   -0.719378\n",
              "CRY_Points -0.719378    1.000000"
            ]
          },
          "metadata": {
            "tags": []
          },
          "execution_count": 84
        }
      ]
    },
    {
      "cell_type": "code",
      "metadata": {
        "id": "ZVXH_nmXS9oj",
        "colab_type": "code",
        "colab": {}
      },
      "source": [
        "CRY_Corr = -0.719378"
      ],
      "execution_count": 0,
      "outputs": []
    },
    {
      "cell_type": "code",
      "metadata": {
        "id": "rC7UFyuOzvkW",
        "colab_type": "code",
        "outputId": "4e5eaa79-12de-4701-d98d-1fd9161185f3",
        "colab": {
          "base_uri": "https://localhost:8080/",
          "height": 106
        }
      },
      "source": [
        "# Fulham correlation value\n",
        "\n",
        "FUL_Exp = array([132.81, 33.63, 11.4, 20.63, 12.6])\n",
        "FUL_Points = array([26, 32, 43, 52, 49])\n",
        "df_FUL = pd.DataFrame({\"FUL_Exp\": FUL_Exp, \"FUL_Points\": FUL_Points})\n",
        "df_FUL[['FUL_Exp', 'FUL_Points']].corr()\n"
      ],
      "execution_count": 0,
      "outputs": [
        {
          "output_type": "execute_result",
          "data": {
            "text/html": [
              "<div>\n",
              "<style scoped>\n",
              "    .dataframe tbody tr th:only-of-type {\n",
              "        vertical-align: middle;\n",
              "    }\n",
              "\n",
              "    .dataframe tbody tr th {\n",
              "        vertical-align: top;\n",
              "    }\n",
              "\n",
              "    .dataframe thead th {\n",
              "        text-align: right;\n",
              "    }\n",
              "</style>\n",
              "<table border=\"1\" class=\"dataframe\">\n",
              "  <thead>\n",
              "    <tr style=\"text-align: right;\">\n",
              "      <th></th>\n",
              "      <th>FUL_Exp</th>\n",
              "      <th>FUL_Points</th>\n",
              "    </tr>\n",
              "  </thead>\n",
              "  <tbody>\n",
              "    <tr>\n",
              "      <th>FUL_Exp</th>\n",
              "      <td>1.000000</td>\n",
              "      <td>-0.795949</td>\n",
              "    </tr>\n",
              "    <tr>\n",
              "      <th>FUL_Points</th>\n",
              "      <td>-0.795949</td>\n",
              "      <td>1.000000</td>\n",
              "    </tr>\n",
              "  </tbody>\n",
              "</table>\n",
              "</div>"
            ],
            "text/plain": [
              "             FUL_Exp  FUL_Points\n",
              "FUL_Exp     1.000000   -0.795949\n",
              "FUL_Points -0.795949    1.000000"
            ]
          },
          "metadata": {
            "tags": []
          },
          "execution_count": 87
        }
      ]
    },
    {
      "cell_type": "code",
      "metadata": {
        "id": "uSYm5KqOS_22",
        "colab_type": "code",
        "colab": {}
      },
      "source": [
        "FUL_Corr = -0.795949"
      ],
      "execution_count": 0,
      "outputs": []
    },
    {
      "cell_type": "code",
      "metadata": {
        "id": "EwDj4Ql5zvUO",
        "colab_type": "code",
        "outputId": "609a1123-5c69-4c92-b4b6-167fcbaa75f8",
        "colab": {
          "base_uri": "https://localhost:8080/",
          "height": 106
        }
      },
      "source": [
        "# Leicester correlation value\n",
        "\n",
        "LEI_Exp = array([130.64, 99.98, 104.42, 56.89, 26.06])\n",
        "LEI_Points = array([52, 47, 44, 81, 41])\n",
        "df_LEI = pd.DataFrame({\"LEI_Exp\": LEI_Exp, \"LEI_Points\": LEI_Points})\n",
        "df_LEI[['LEI_Exp', 'LEI_Points']].corr()\n"
      ],
      "execution_count": 0,
      "outputs": [
        {
          "output_type": "execute_result",
          "data": {
            "text/html": [
              "<div>\n",
              "<style scoped>\n",
              "    .dataframe tbody tr th:only-of-type {\n",
              "        vertical-align: middle;\n",
              "    }\n",
              "\n",
              "    .dataframe tbody tr th {\n",
              "        vertical-align: top;\n",
              "    }\n",
              "\n",
              "    .dataframe thead th {\n",
              "        text-align: right;\n",
              "    }\n",
              "</style>\n",
              "<table border=\"1\" class=\"dataframe\">\n",
              "  <thead>\n",
              "    <tr style=\"text-align: right;\">\n",
              "      <th></th>\n",
              "      <th>LEI_Exp</th>\n",
              "      <th>LEI_Points</th>\n",
              "    </tr>\n",
              "  </thead>\n",
              "  <tbody>\n",
              "    <tr>\n",
              "      <th>LEI_Exp</th>\n",
              "      <td>1.0000</td>\n",
              "      <td>-0.1448</td>\n",
              "    </tr>\n",
              "    <tr>\n",
              "      <th>LEI_Points</th>\n",
              "      <td>-0.1448</td>\n",
              "      <td>1.0000</td>\n",
              "    </tr>\n",
              "  </tbody>\n",
              "</table>\n",
              "</div>"
            ],
            "text/plain": [
              "            LEI_Exp  LEI_Points\n",
              "LEI_Exp      1.0000     -0.1448\n",
              "LEI_Points  -0.1448      1.0000"
            ]
          },
          "metadata": {
            "tags": []
          },
          "execution_count": 89
        }
      ]
    },
    {
      "cell_type": "code",
      "metadata": {
        "id": "zf8ogxz4TCEv",
        "colab_type": "code",
        "colab": {}
      },
      "source": [
        "LEI_Corr = -0.1448"
      ],
      "execution_count": 0,
      "outputs": []
    },
    {
      "cell_type": "code",
      "metadata": {
        "id": "5PDjb5GtzvQk",
        "colab_type": "code",
        "colab": {}
      },
      "source": [
        "# Diverging Text Bars of Club Correlation re expenditures & points"
      ],
      "execution_count": 0,
      "outputs": []
    },
    {
      "cell_type": "code",
      "metadata": {
        "id": "_tjfHN8fzvKj",
        "colab_type": "code",
        "colab": {}
      },
      "source": [
        "club_corr = array(['Leicester', 'Fulham', 'Crystal Palace', 'Aston Villa', \n",
        "                   'Sunderland', 'Swansea', 'Southampton', 'West Brom', \n",
        "                   'Newcastle', 'West Ham', 'Stoke', 'Everton', 'Liverpool', \n",
        "                   'Manchester City', 'Manchester United', 'Tottenham', \n",
        "                   'Chelsea', 'Arsenal'])\n",
        "corr_values = array([LEI_Corr, FUL_Corr, CRY_Corr, AVL_Corr, SUN_Corr, \n",
        "                     SWA_Corr, SOU_Corr, WBA_Corr, NEW_Corr, WHU_Corr, \n",
        "                     STK_Corr, EVE_Corr, LIV_Corr, MCI_Corr, MAN_Corr, \n",
        "                     TOT_Corr, CHE_Corr, ARS_Corr])\n"
      ],
      "execution_count": 0,
      "outputs": []
    },
    {
      "cell_type": "code",
      "metadata": {
        "id": "ejwP8sZJOQOc",
        "colab_type": "code",
        "outputId": "d1191bd7-e423-4947-939e-17a6f857fe33",
        "colab": {
          "base_uri": "https://localhost:8080/",
          "height": 336
        }
      },
      "source": [
        "df_Corr = pd.DataFrame({\"corr_values\": corr_values, \"club_corr\": club_corr})\n",
        "df_Corr = df_Corr.sort_values(by='corr_values')\n",
        "print(df_Corr)"
      ],
      "execution_count": 0,
      "outputs": [
        {
          "output_type": "stream",
          "text": [
            "    corr_values          club_corr\n",
            "1     -0.795949             Fulham\n",
            "2     -0.719378     Crystal Palace\n",
            "3     -0.691513        Aston Villa\n",
            "7     -0.631866          West Brom\n",
            "10    -0.590978              Stoke\n",
            "5     -0.570044            Swansea\n",
            "8     -0.512115          Newcastle\n",
            "14    -0.323952  Manchester United\n",
            "11    -0.306013            Everton\n",
            "4     -0.264788         Sunderland\n",
            "17    -0.231747            Arsenal\n",
            "0     -0.144800          Leicester\n",
            "13     0.032080    Manchester City\n",
            "16     0.139100            Chelsea\n",
            "12     0.209822          Liverpool\n",
            "6      0.249539        Southampton\n",
            "15     0.428894          Tottenham\n",
            "9      0.479110           West Ham\n"
          ],
          "name": "stdout"
        }
      ]
    },
    {
      "cell_type": "code",
      "metadata": {
        "id": "QLi2cqYLV8Qs",
        "colab_type": "code",
        "outputId": "53eee6ef-5af9-4042-f352-9324a373a009",
        "colab": {
          "base_uri": "https://localhost:8080/",
          "height": 295
        }
      },
      "source": [
        "y_pos = np.arange(len(df_Corr['club_corr']))\n",
        "plt.barh(y_pos, df_Corr['corr_values'], align='center')\n",
        "plt.yticks(y_pos, df_Corr['club_corr'])\n",
        "plt.xlabel('Correlation Value')\n",
        "plt.ylabel('Club')\n",
        "plt.title('Correlation between Expenditures and Points Earned')\n",
        "plt.grid(linestyle='--', alpha=0.5)\n",
        "plt.xlim(-1, 1)\n",
        "plt.show()"
      ],
      "execution_count": 0,
      "outputs": [
        {
          "output_type": "display_data",
          "data": {
            "image/png": "[encoded data removed]",
            "text/plain": [
              "<Figure size 432x288 with 1 Axes>"
            ]
          },
          "metadata": {
            "tags": []
          }
        }
      ]
    },
    {
      "cell_type": "code",
      "metadata": {
        "id": "wObhKYfxzR46",
        "colab_type": "code",
        "colab": {}
      },
      "source": [
        ""
      ],
      "execution_count": 0,
      "outputs": []
    }
  ]
}